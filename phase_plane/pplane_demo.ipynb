{
 "cells": [
  {
   "cell_type": "markdown",
   "id": "9007b29c",
   "metadata": {},
   "source": [
    "Consider the following nonlinear, autonomous system of ODEs:\n",
    "$$\n",
    "\\frac{dx_1}{dt} = \\frac{\\alpha}{1 + x_2^\\beta} - x_1 \\\\ \n",
    "\\frac{dx_2}{dt} = \\frac{\\alpha}{1 + x_1^\\beta} - x_2\n",
    "$$\n",
    "This model is known as the <i>two state toggle switch</i> model of a [gene regulatory network](https://en.wikipedia.org/wiki/Gene_regulatory_network). It models the gene expression levels $x_1$ and $x_2$ of two genes that repress the expression (i.e., transcription) of the other. This system was implemented experimentally by [Gardiner <i>et al.</i> (2000)](https://www.nature.com/articles/35002131). \n",
    "\n",
    "The parameter $\\alpha > 0$ represents the production rate of the genes (assumed here to be equal for each gene for simplicity). The terms\n",
    "$$\n",
    "\\frac{\\alpha}{1 + x_2^\\beta} \\qquad \\text{and}\\qquad \\frac{\\alpha}{1 + x_1^\\beta}\n",
    "$$\n",
    "are what are known as [<i>Hill functions</i>](https://en.wikipedia.org/wiki/Hill_equation_(biochemistry)) in biochemistry. For example, the second term above accounts for the for the fact that multiple of the proteins encoded by gene 1 (transcription factors) may have to bind to the promoter region of gene 2 in order to repress its transcription. This property is called [<i>cooperativity</i>](https://en.wikipedia.org/wiki/Cooperativity) in biochemistry, and the <i>Hill coefficient</i> $\\beta > 0$ represents the degree of cooperativity exhibited by the two genes.\n",
    "\n",
    "Here, we will see how we can <b> numerically generate a phase portrait </b> of this system, complete with sample trajectories and classification of fixed points."
   ]
  },
  {
   "cell_type": "code",
   "execution_count": null,
   "id": "71002cda",
   "metadata": {},
   "outputs": [],
   "source": []
  },
  {
   "cell_type": "code",
   "execution_count": null,
   "id": "cdafa252",
   "metadata": {},
   "outputs": [],
   "source": []
  },
  {
   "cell_type": "markdown",
   "id": "062c99c0",
   "metadata": {},
   "source": [
    "First, we must pick some specific values for our parameters $\\alpha$ and $\\beta$. We will go with $\\alpha = 1$ and $\\beta = 2$."
   ]
  },
  {
   "cell_type": "code",
   "execution_count": null,
   "id": "19f17fa2",
   "metadata": {},
   "outputs": [],
   "source": []
  },
  {
   "cell_type": "markdown",
   "id": "6e9259d6",
   "metadata": {},
   "source": [
    "Now, for numerical solution. Need: array of time points, initial condition(s). Use: solve_ivp function from SciPy ([RK45](https://en.wikipedia.org/wiki/Runge%E2%80%93Kutta_methods) method)."
   ]
  },
  {
   "cell_type": "code",
   "execution_count": null,
   "id": "2cdc6dd9",
   "metadata": {},
   "outputs": [],
   "source": []
  },
  {
   "cell_type": "markdown",
   "id": "f5f667b5",
   "metadata": {},
   "source": [
    "Visualization: start by plotting the component curves of the function."
   ]
  },
  {
   "cell_type": "code",
   "execution_count": null,
   "id": "5d26ca84",
   "metadata": {},
   "outputs": [],
   "source": []
  },
  {
   "cell_type": "markdown",
   "id": "0dd27da0",
   "metadata": {},
   "source": [
    "Fixed points located at the intersection of the two nullclines:\n",
    "$$\n",
    "x_1 = \\frac{\\alpha}{1+ x_2^\\beta} \\quad\\mbox{and}\\qquad x_2 = \\frac{\\alpha}{1 + x_1^\\beta} ~.\n",
    "$$\n",
    "To start, let's plot them."
   ]
  },
  {
   "cell_type": "code",
   "execution_count": null,
   "id": "c238b04d",
   "metadata": {},
   "outputs": [],
   "source": []
  },
  {
   "cell_type": "markdown",
   "id": "d7ee0259",
   "metadata": {},
   "source": [
    "To find their intersection numerically, we will define a Python function that finds the roots of a function $f(x)$, i.e., $x$ such that $f(x) = 0$. We can use the built-in SciPy function `fsolve` function. This function uses a [root finding algorithm](https://en.wikipedia.org/wiki/Root-finding_algorithms), which requires us to input an initial guess for the value of the root. The following function mainly calls `fsolve`, and with a few additional lines so that we don't get error message if a root isnt found (i.e., if the algorithm does not <i> converge</i>)."
   ]
  },
  {
   "cell_type": "code",
   "execution_count": null,
   "id": "e891c5d2",
   "metadata": {},
   "outputs": [],
   "source": []
  },
  {
   "cell_type": "markdown",
   "id": "85ffbfce",
   "metadata": {},
   "source": [
    "Find the fixed point of the toggle switch using $(0.75,0.75)$ as our initial guess:"
   ]
  },
  {
   "cell_type": "code",
   "execution_count": null,
   "id": "31fc31d3",
   "metadata": {},
   "outputs": [],
   "source": []
  },
  {
   "cell_type": "markdown",
   "id": "6f7d4e47",
   "metadata": {},
   "source": [
    "Add the fixed point to existing plot of the nullclines:"
   ]
  },
  {
   "cell_type": "code",
   "execution_count": null,
   "id": "8560051a",
   "metadata": {},
   "outputs": [],
   "source": []
  },
  {
   "cell_type": "markdown",
   "id": "2e897807",
   "metadata": {},
   "source": [
    "Add in direction field using `quiver` function in Python:"
   ]
  },
  {
   "cell_type": "code",
   "execution_count": null,
   "id": "053d519f",
   "metadata": {},
   "outputs": [],
   "source": []
  },
  {
   "cell_type": "markdown",
   "id": "e733ab32",
   "metadata": {},
   "source": [
    "Finally, let's add in the trajectories we found earlier:"
   ]
  },
  {
   "cell_type": "code",
   "execution_count": null,
   "id": "4e6edd14",
   "metadata": {},
   "outputs": [],
   "source": []
  },
  {
   "cell_type": "markdown",
   "id": "47482851",
   "metadata": {},
   "source": [
    "What about determining stability of the fixed points? For nonlinear systems, we can classify stability using the eigenvalues of the <i>Jacobian matrix</i> of $\\vec{f}(x_1,x_2)$ evaluated at the fixed point, similar to how we did for linear systems:\n",
    "$$\n",
    "J(x_1^*,x_2^*) = \\begin{pmatrix} \\displaystyle \\frac{\\partial f_1}{\\partial x_1}(x_1^*,x_2^*) & \\displaystyle \\frac{\\partial f_1}{\\partial x_2}(x_1^*,x_2^*) \\\\[2ex] \\displaystyle \\frac{\\partial f_2}{\\partial x_1}(x_1^*,x_2^*) & \\displaystyle \\frac{\\partial f_2}{\\partial x_2}(x_1^*,x_2^*) \\end{pmatrix}\n",
    "$$\n",
    "(See the \"Linear Stability Analysis\" supplementary notes for more information.)\n",
    "\n",
    "For this example, we could compute the Jacobian exactly. However, for the sake of building a more general module for generating phase portraits, we will approximate the Jacobian numerically using the `numdifftools` package in Python."
   ]
  },
  {
   "cell_type": "code",
   "execution_count": null,
   "id": "663138a3",
   "metadata": {},
   "outputs": [],
   "source": []
  },
  {
   "cell_type": "markdown",
   "id": "d15b3bae",
   "metadata": {},
   "source": [
    "Recall that the eigenvalues of a 2x2 matrix $A = \\begin{pmatrix}\n",
    "a & b \\\\ c & d\n",
    "\\end{pmatrix}$ are given by:\n",
    "$$\n",
    "\\lambda_{1,2} = \\frac{\\text{tr}(A) \\pm \\sqrt{\\text{tr}(A)^2 - 4 \\text{det}(A)}}{2},\n",
    "$$\n",
    "where $\\text{tr}(A) = a + d$ and $\\text{det}(A) = ad-bc$. Using this formula, we can actually show that\n",
    "$$\n",
    "\\text{tr}(A) = \\lambda_1 + \\lambda_2 \\qquad \\text{and}\\qquad \\text{det}(A) = \\lambda_1\\lambda_2\n",
    "$$\n",
    "We can use these facts to simplify how we check the different cases of the eigenvalues of the Jacobian as they relate to the type/stability of the fixed point."
   ]
  },
  {
   "cell_type": "code",
   "execution_count": null,
   "id": "47436ebb",
   "metadata": {},
   "outputs": [],
   "source": []
  },
  {
   "cell_type": "code",
   "execution_count": null,
   "id": "b011f653",
   "metadata": {},
   "outputs": [],
   "source": []
  },
  {
   "cell_type": "code",
   "execution_count": null,
   "id": "c34b04ce",
   "metadata": {},
   "outputs": [],
   "source": []
  }
 ],
 "metadata": {
  "kernelspec": {
   "display_name": "Python 3",
   "language": "python",
   "name": "python3"
  },
  "language_info": {
   "codemirror_mode": {
    "name": "ipython",
    "version": 3
   },
   "file_extension": ".py",
   "mimetype": "text/x-python",
   "name": "python",
   "nbconvert_exporter": "python",
   "pygments_lexer": "ipython3",
   "version": "3.8.8"
  }
 },
 "nbformat": 4,
 "nbformat_minor": 5
}
